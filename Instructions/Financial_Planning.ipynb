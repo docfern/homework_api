{
 "cells": [
  {
   "cell_type": "markdown",
   "metadata": {},
   "source": [
    "# Unit 5 - Financial Planning"
   ]
  },
  {
   "cell_type": "code",
   "execution_count": 175,
   "metadata": {},
   "outputs": [],
   "source": [
    "import os\n",
    "import requests\n",
    "import numpy as np\n",
    "import pandas as pd\n",
    "from dotenv import load_dotenv\n",
    "import alpaca_trade_api as tradeapi\n",
    "from MCForecastTools import MCSimulation\n",
    "import matplotlib.pyplot as plt\n",
    "import datetime as dt\n",
    "import pytz\n",
    "\n",
    "%matplotlib inline"
   ]
  },
  {
   "cell_type": "code",
   "execution_count": 176,
   "metadata": {},
   "outputs": [
    {
     "data": {
      "text/plain": [
       "True"
      ]
     },
     "execution_count": 176,
     "metadata": {},
     "output_type": "execute_result"
    }
   ],
   "source": [
    "from dotenv import load_dotenv\n",
    "load_dotenv()"
   ]
  },
  {
   "cell_type": "markdown",
   "metadata": {},
   "source": [
    "# Part 1 - Personal Finance Planner\n",
    "## Collect Crypto Prices Using the requests library"
   ]
  },
  {
   "cell_type": "code",
   "execution_count": 177,
   "metadata": {},
   "outputs": [],
   "source": [
    "# Set current amount of crypto assets\n",
    "my_btc = 1.2\n",
    "my_eth = 5.3"
   ]
  },
  {
   "cell_type": "code",
   "execution_count": 178,
   "metadata": {},
   "outputs": [],
   "source": [
    "# Crypto API URLs\n",
    "btc_url = \"https://api.alternative.me/v2/ticker/Bitcoin/?convert=USD\"\n",
    "eth_url = \"https://api.alternative.me/v2/ticker/Ethereum/?convert=USD\""
   ]
  },
  {
   "cell_type": "code",
   "execution_count": 179,
   "metadata": {},
   "outputs": [
    {
     "data": {
      "text/plain": [
       "11347.09"
      ]
     },
     "execution_count": 179,
     "metadata": {},
     "output_type": "execute_result"
    }
   ],
   "source": [
    "# Fetch current BTC price\n",
    "btc_request = requests.get(btc_url).json()\n",
    "btc_price = btc_request[\"data\"]['1']['quotes']['USD']['price']\n",
    "btc_price"
   ]
  },
  {
   "cell_type": "code",
   "execution_count": 180,
   "metadata": {},
   "outputs": [
    {
     "data": {
      "text/plain": [
       "367.82"
      ]
     },
     "execution_count": 180,
     "metadata": {},
     "output_type": "execute_result"
    }
   ],
   "source": [
    "# Fetch current ETH price\n",
    "eth_request = requests.get(eth_url).json()\n",
    "eth_price = eth_request[\"data\"]['1027']['quotes']['USD']['price']\n",
    "eth_price"
   ]
  },
  {
   "cell_type": "code",
   "execution_count": 182,
   "metadata": {},
   "outputs": [
    {
     "data": {
      "text/plain": [
       "13616.508"
      ]
     },
     "execution_count": 182,
     "metadata": {},
     "output_type": "execute_result"
    }
   ],
   "source": [
    "# Compute current value of my crpto\n",
    "my_btc_value = my_btc * btc_price \n",
    "my_btc_value"
   ]
  },
  {
   "cell_type": "code",
   "execution_count": 183,
   "metadata": {},
   "outputs": [
    {
     "data": {
      "text/plain": [
       "1949.446"
      ]
     },
     "execution_count": 183,
     "metadata": {},
     "output_type": "execute_result"
    }
   ],
   "source": [
    "# Compute current value of my crpto\n",
    "my_eth_value = my_eth * eth_price\n",
    "my_eth_value"
   ]
  },
  {
   "cell_type": "code",
   "execution_count": 184,
   "metadata": {},
   "outputs": [
    {
     "name": "stdout",
     "output_type": "stream",
     "text": [
      "The current value of your 1.2 BTC is $13616.51\n",
      "The current value of your 5.3 ETH is $1949.45\n"
     ]
    }
   ],
   "source": [
    "# Print current crypto wallet balance\n",
    "print(f\"The current value of your {my_btc} BTC is ${my_btc_value:0.2f}\")\n",
    "print(f\"The current value of your {my_eth} ETH is ${my_eth_value:0.2f}\")"
   ]
  },
  {
   "cell_type": "code",
   "execution_count": 191,
   "metadata": {},
   "outputs": [
    {
     "data": {
      "text/plain": [
       "15565.954"
      ]
     },
     "execution_count": 191,
     "metadata": {},
     "output_type": "execute_result"
    }
   ],
   "source": [
    "crypto = my_btc_value + my_eth_value\n",
    "crypto"
   ]
  },
  {
   "cell_type": "markdown",
   "metadata": {},
   "source": [
    "## Collect Investments Data Using Alpaca: SPY (stocks) and AGG (bonds)"
   ]
  },
  {
   "cell_type": "code",
   "execution_count": 231,
   "metadata": {},
   "outputs": [],
   "source": [
    "# Current amount of shares\n",
    "my_agg = 200\n",
    "my_spy = 50"
   ]
  },
  {
   "cell_type": "code",
   "execution_count": 193,
   "metadata": {},
   "outputs": [],
   "source": [
    "# Current amount of shares\n",
    "alpaca_api_key = os.getenv(\"ALPACA_API_KEY\")\n",
    "alpaca_secret_key = os.getenv(\"ALPACA_SECRET_KEY\")\n",
    "\n",
    "# Create the Alpaca API object\n",
    "api = tradeapi.REST(\n",
    "    alpaca_api_key,\n",
    "    alpaca_secret_key,\n",
    "    api_version = \"v2\"\n",
    ")"
   ]
  },
  {
   "cell_type": "code",
   "execution_count": 194,
   "metadata": {},
   "outputs": [
    {
     "name": "stdout",
     "output_type": "stream",
     "text": [
      "<class 'str'>\n"
     ]
    }
   ],
   "source": [
    "print(type(\"ALPACA_API_KEY\"))"
   ]
  },
  {
   "cell_type": "code",
   "execution_count": 195,
   "metadata": {},
   "outputs": [],
   "source": [
    "# Format current date as ISO format\n",
    "today = pd.Timestamp(\"2020-10-16\", tz=\"America/New_York\").isoformat()"
   ]
  },
  {
   "cell_type": "code",
   "execution_count": 196,
   "metadata": {},
   "outputs": [],
   "source": [
    "# Set the tickers\n",
    "tickers = [\"AGG\", \"SPY\"]"
   ]
  },
  {
   "cell_type": "code",
   "execution_count": 197,
   "metadata": {},
   "outputs": [],
   "source": [
    "# Set timeframe to '1D' for Alpaca API\n",
    "timeframe = \"1D\""
   ]
  },
  {
   "cell_type": "code",
   "execution_count": 232,
   "metadata": {},
   "outputs": [],
   "source": [
    "# Get current closing prices for AGG and SPY\n",
    "df_portfolio = api.get_barset(\n",
    "    tickers,\n",
    "    timeframe,\n",
    "    start = today,\n",
    "    end = today\n",
    ").df"
   ]
  },
  {
   "cell_type": "code",
   "execution_count": 226,
   "metadata": {},
   "outputs": [
    {
     "data": {
      "text/html": [
       "<div>\n",
       "<style scoped>\n",
       "    .dataframe tbody tr th:only-of-type {\n",
       "        vertical-align: middle;\n",
       "    }\n",
       "\n",
       "    .dataframe tbody tr th {\n",
       "        vertical-align: top;\n",
       "    }\n",
       "\n",
       "    .dataframe thead tr th {\n",
       "        text-align: left;\n",
       "    }\n",
       "</style>\n",
       "<table border=\"1\" class=\"dataframe\">\n",
       "  <thead>\n",
       "    <tr>\n",
       "      <th></th>\n",
       "      <th colspan=\"5\" halign=\"left\">AGG</th>\n",
       "      <th colspan=\"5\" halign=\"left\">SPY</th>\n",
       "    </tr>\n",
       "    <tr>\n",
       "      <th></th>\n",
       "      <th>open</th>\n",
       "      <th>high</th>\n",
       "      <th>low</th>\n",
       "      <th>close</th>\n",
       "      <th>volume</th>\n",
       "      <th>open</th>\n",
       "      <th>high</th>\n",
       "      <th>low</th>\n",
       "      <th>close</th>\n",
       "      <th>volume</th>\n",
       "    </tr>\n",
       "  </thead>\n",
       "  <tbody>\n",
       "    <tr>\n",
       "      <th>2020-10-16 00:00:00-04:00</th>\n",
       "      <td>117.99</td>\n",
       "      <td>118.0778</td>\n",
       "      <td>117.88</td>\n",
       "      <td>117.88</td>\n",
       "      <td>3591541</td>\n",
       "      <td>348.96</td>\n",
       "      <td>350.75</td>\n",
       "      <td>347.1</td>\n",
       "      <td>347.25</td>\n",
       "      <td>62796942</td>\n",
       "    </tr>\n",
       "  </tbody>\n",
       "</table>\n",
       "</div>"
      ],
      "text/plain": [
       "                              AGG                                        SPY  \\\n",
       "                             open      high     low   close   volume    open   \n",
       "2020-10-16 00:00:00-04:00  117.99  118.0778  117.88  117.88  3591541  348.96   \n",
       "\n",
       "                                                            \n",
       "                             high    low   close    volume  \n",
       "2020-10-16 00:00:00-04:00  350.75  347.1  347.25  62796942  "
      ]
     },
     "execution_count": 226,
     "metadata": {},
     "output_type": "execute_result"
    }
   ],
   "source": [
    "df_portfolio"
   ]
  },
  {
   "cell_type": "code",
   "execution_count": 233,
   "metadata": {},
   "outputs": [],
   "source": [
    "# Pick AGG and SPY close prices\n",
    "# df_closing_prices = pd.DataFrame()\n",
    "agg_close_price = float(df_portfolio[\"AGG\"][\"close\"])\n",
    "spy_close_price = float(df_portfolio[\"SPY\"][\"close\"])"
   ]
  },
  {
   "cell_type": "code",
   "execution_count": 234,
   "metadata": {},
   "outputs": [
    {
     "name": "stdout",
     "output_type": "stream",
     "text": [
      "Current AGG closing price: $117.88\n",
      "Current SPY closing price: $347.25\n"
     ]
    }
   ],
   "source": [
    "# Print AGG and SPY close prices\n",
    "print(f\"Current AGG closing price: ${agg_close_price}\")\n",
    "print(f\"Current SPY closing price: ${spy_close_price}\")"
   ]
  },
  {
   "cell_type": "code",
   "execution_count": 235,
   "metadata": {},
   "outputs": [
    {
     "data": {
      "text/plain": [
       "23576.0"
      ]
     },
     "execution_count": 235,
     "metadata": {},
     "output_type": "execute_result"
    }
   ],
   "source": [
    "agg_share = my_agg * agg_close_price\n",
    "agg_share"
   ]
  },
  {
   "cell_type": "code",
   "execution_count": 236,
   "metadata": {},
   "outputs": [
    {
     "data": {
      "text/plain": [
       "17362.5"
      ]
     },
     "execution_count": 236,
     "metadata": {},
     "output_type": "execute_result"
    }
   ],
   "source": [
    "spy_share = my_spy * spy_close_price\n",
    "spy_share"
   ]
  },
  {
   "cell_type": "code",
   "execution_count": 237,
   "metadata": {},
   "outputs": [
    {
     "data": {
      "text/plain": [
       "40938.5"
      ]
     },
     "execution_count": 237,
     "metadata": {},
     "output_type": "execute_result"
    }
   ],
   "source": [
    "shares = agg_share + spy_share\n",
    "shares"
   ]
  },
  {
   "cell_type": "markdown",
   "metadata": {},
   "source": [
    "## Savings Health Analysis"
   ]
  },
  {
   "cell_type": "code",
   "execution_count": 238,
   "metadata": {},
   "outputs": [],
   "source": [
    "# Set monthly household income\n",
    "monthly_income = 12000"
   ]
  },
  {
   "cell_type": "code",
   "execution_count": 473,
   "metadata": {},
   "outputs": [
    {
     "data": {
      "text/html": [
       "<div>\n",
       "<style scoped>\n",
       "    .dataframe tbody tr th:only-of-type {\n",
       "        vertical-align: middle;\n",
       "    }\n",
       "\n",
       "    .dataframe tbody tr th {\n",
       "        vertical-align: top;\n",
       "    }\n",
       "\n",
       "    .dataframe thead th {\n",
       "        text-align: right;\n",
       "    }\n",
       "</style>\n",
       "<table border=\"1\" class=\"dataframe\">\n",
       "  <thead>\n",
       "    <tr style=\"text-align: right;\">\n",
       "      <th></th>\n",
       "      <th>AMOUNT</th>\n",
       "    </tr>\n",
       "  </thead>\n",
       "  <tbody>\n",
       "    <tr>\n",
       "      <th>SHARES</th>\n",
       "      <td>40938.500</td>\n",
       "    </tr>\n",
       "    <tr>\n",
       "      <th>CRYPTO</th>\n",
       "      <td>15565.954</td>\n",
       "    </tr>\n",
       "  </tbody>\n",
       "</table>\n",
       "</div>"
      ],
      "text/plain": [
       "           AMOUNT\n",
       "SHARES  40938.500\n",
       "CRYPTO  15565.954"
      ]
     },
     "execution_count": 473,
     "metadata": {},
     "output_type": "execute_result"
    }
   ],
   "source": [
    "# Create savings DataFrame\n",
    "value_data = {\n",
    "    \"SHARES\": [shares],\n",
    "    \"CRYPTO\": [crypto],\n",
    "}\n",
    "df_savings = pd.DataFrame(value_data)\n",
    "df_savings.transpose().rename(columns={0: 'AMOUNT'})"
   ]
  },
  {
   "cell_type": "code",
   "execution_count": null,
   "metadata": {},
   "outputs": [],
   "source": [
    "df_savings.plot.pie(y=\"value_data\", title=\"Stocks & Crypto Composition\")"
   ]
  },
  {
   "cell_type": "code",
   "execution_count": 519,
   "metadata": {},
   "outputs": [
    {
     "data": {
      "text/plain": [
       "36000"
      ]
     },
     "execution_count": 519,
     "metadata": {},
     "output_type": "execute_result"
    }
   ],
   "source": [
    "# Set ideal emergency fund\n",
    "emergency_fund = monthly_income * 3\n",
    "emergency_fund"
   ]
  },
  {
   "cell_type": "code",
   "execution_count": 304,
   "metadata": {},
   "outputs": [
    {
     "data": {
      "text/plain": [
       "56504.454"
      ]
     },
     "execution_count": 304,
     "metadata": {},
     "output_type": "execute_result"
    }
   ],
   "source": [
    "# Calculate total amount of savings\n",
    "total_savings = shares + crypto\n",
    "total_savings"
   ]
  },
  {
   "cell_type": "code",
   "execution_count": 305,
   "metadata": {},
   "outputs": [
    {
     "name": "stdout",
     "output_type": "stream",
     "text": [
      "Congratulation! You have enough money in your emergency fund\n"
     ]
    }
   ],
   "source": [
    "# Validate saving health\n",
    "if total_savings > emergency_fund:\n",
    "    print(f\"Congratulation! You have enough money in your emergency fund\")\n",
    "elif total_savings == emergency_fund:\n",
    "    print(f\"Congratulation! You have reach enough money in your emergency fund\")\n",
    "else:\n",
    "    print(f\"You neeed ${total_savings - emergency_fund} to reach your goal of having emergency fund\")"
   ]
  },
  {
   "cell_type": "markdown",
   "metadata": {},
   "source": [
    "# Part 2 - Retirement Planning\n",
    "\n",
    "## Monte Carlo Simulation"
   ]
  },
  {
   "cell_type": "code",
   "execution_count": 306,
   "metadata": {},
   "outputs": [],
   "source": [
    "# Set start and end dates of five years back from today.\n",
    "# Sample results may vary from the solution based on the time frame chosen\n",
    "start_date = pd.Timestamp('2015-10-16', tz='America/New_York').isoformat()\n",
    "end_date = pd.Timestamp('2020-10-16', tz='America/New_York').isoformat()"
   ]
  },
  {
   "cell_type": "code",
   "execution_count": 307,
   "metadata": {},
   "outputs": [],
   "source": [
    "# Get 5 years' worth of historical data for SPY and AGG\n",
    "tickers = [\"AGG\",\"SPY\"]"
   ]
  },
  {
   "cell_type": "code",
   "execution_count": 308,
   "metadata": {},
   "outputs": [],
   "source": [
    "df_ticker = api.get_barset(\n",
    "    tickers,\n",
    "    timeframe,\n",
    "    start=start_date,\n",
    "    end=end_date\n",
    ").df"
   ]
  },
  {
   "cell_type": "code",
   "execution_count": 309,
   "metadata": {},
   "outputs": [
    {
     "data": {
      "text/html": [
       "<div>\n",
       "<style scoped>\n",
       "    .dataframe tbody tr th:only-of-type {\n",
       "        vertical-align: middle;\n",
       "    }\n",
       "\n",
       "    .dataframe tbody tr th {\n",
       "        vertical-align: top;\n",
       "    }\n",
       "\n",
       "    .dataframe thead tr th {\n",
       "        text-align: left;\n",
       "    }\n",
       "</style>\n",
       "<table border=\"1\" class=\"dataframe\">\n",
       "  <thead>\n",
       "    <tr>\n",
       "      <th></th>\n",
       "      <th colspan=\"5\" halign=\"left\">AGG</th>\n",
       "      <th colspan=\"5\" halign=\"left\">SPY</th>\n",
       "    </tr>\n",
       "    <tr>\n",
       "      <th></th>\n",
       "      <th>open</th>\n",
       "      <th>high</th>\n",
       "      <th>low</th>\n",
       "      <th>close</th>\n",
       "      <th>volume</th>\n",
       "      <th>open</th>\n",
       "      <th>high</th>\n",
       "      <th>low</th>\n",
       "      <th>close</th>\n",
       "      <th>volume</th>\n",
       "    </tr>\n",
       "  </thead>\n",
       "  <tbody>\n",
       "    <tr>\n",
       "      <th>2015-10-16 00:00:00-04:00</th>\n",
       "      <td>109.90</td>\n",
       "      <td>109.940</td>\n",
       "      <td>109.78</td>\n",
       "      <td>109.78</td>\n",
       "      <td>1497588.0</td>\n",
       "      <td>202.83</td>\n",
       "      <td>203.29</td>\n",
       "      <td>201.9200</td>\n",
       "      <td>203.14</td>\n",
       "      <td>79323870</td>\n",
       "    </tr>\n",
       "    <tr>\n",
       "      <th>2015-10-19 00:00:00-04:00</th>\n",
       "      <td>109.78</td>\n",
       "      <td>109.895</td>\n",
       "      <td>109.65</td>\n",
       "      <td>109.85</td>\n",
       "      <td>1289942.0</td>\n",
       "      <td>202.50</td>\n",
       "      <td>203.37</td>\n",
       "      <td>202.1300</td>\n",
       "      <td>203.33</td>\n",
       "      <td>61255929</td>\n",
       "    </tr>\n",
       "    <tr>\n",
       "      <th>2015-10-20 00:00:00-04:00</th>\n",
       "      <td>109.64</td>\n",
       "      <td>109.780</td>\n",
       "      <td>109.55</td>\n",
       "      <td>109.65</td>\n",
       "      <td>1672562.0</td>\n",
       "      <td>202.85</td>\n",
       "      <td>203.84</td>\n",
       "      <td>202.5471</td>\n",
       "      <td>203.07</td>\n",
       "      <td>60081395</td>\n",
       "    </tr>\n",
       "    <tr>\n",
       "      <th>2015-10-21 00:00:00-04:00</th>\n",
       "      <td>109.73</td>\n",
       "      <td>109.950</td>\n",
       "      <td>109.73</td>\n",
       "      <td>109.89</td>\n",
       "      <td>1119723.0</td>\n",
       "      <td>203.61</td>\n",
       "      <td>203.79</td>\n",
       "      <td>201.6500</td>\n",
       "      <td>201.82</td>\n",
       "      <td>83704739</td>\n",
       "    </tr>\n",
       "    <tr>\n",
       "      <th>2015-10-22 00:00:00-04:00</th>\n",
       "      <td>109.90</td>\n",
       "      <td>110.050</td>\n",
       "      <td>109.83</td>\n",
       "      <td>109.94</td>\n",
       "      <td>1817244.0</td>\n",
       "      <td>202.98</td>\n",
       "      <td>205.51</td>\n",
       "      <td>202.8100</td>\n",
       "      <td>205.22</td>\n",
       "      <td>121670959</td>\n",
       "    </tr>\n",
       "  </tbody>\n",
       "</table>\n",
       "</div>"
      ],
      "text/plain": [
       "                              AGG                                         SPY  \\\n",
       "                             open     high     low   close     volume    open   \n",
       "2015-10-16 00:00:00-04:00  109.90  109.940  109.78  109.78  1497588.0  202.83   \n",
       "2015-10-19 00:00:00-04:00  109.78  109.895  109.65  109.85  1289942.0  202.50   \n",
       "2015-10-20 00:00:00-04:00  109.64  109.780  109.55  109.65  1672562.0  202.85   \n",
       "2015-10-21 00:00:00-04:00  109.73  109.950  109.73  109.89  1119723.0  203.61   \n",
       "2015-10-22 00:00:00-04:00  109.90  110.050  109.83  109.94  1817244.0  202.98   \n",
       "\n",
       "                                                                \n",
       "                             high       low   close     volume  \n",
       "2015-10-16 00:00:00-04:00  203.29  201.9200  203.14   79323870  \n",
       "2015-10-19 00:00:00-04:00  203.37  202.1300  203.33   61255929  \n",
       "2015-10-20 00:00:00-04:00  203.84  202.5471  203.07   60081395  \n",
       "2015-10-21 00:00:00-04:00  203.79  201.6500  201.82   83704739  \n",
       "2015-10-22 00:00:00-04:00  205.51  202.8100  205.22  121670959  "
      ]
     },
     "execution_count": 309,
     "metadata": {},
     "output_type": "execute_result"
    }
   ],
   "source": [
    "# Display sample data\n",
    "df_ticker.head()"
   ]
  },
  {
   "cell_type": "code",
   "execution_count": 310,
   "metadata": {},
   "outputs": [
    {
     "data": {
      "text/plain": [
       "\u001b[1;31mInit signature:\u001b[0m\n",
       "\u001b[0mMCSimulation\u001b[0m\u001b[1;33m(\u001b[0m\u001b[1;33m\n",
       "\u001b[0m    \u001b[0mportfolio_data\u001b[0m\u001b[1;33m,\u001b[0m\u001b[1;33m\n",
       "\u001b[0m    \u001b[0mweights\u001b[0m\u001b[1;33m=\u001b[0m\u001b[1;34m''\u001b[0m\u001b[1;33m,\u001b[0m\u001b[1;33m\n",
       "\u001b[0m    \u001b[0mnum_simulation\u001b[0m\u001b[1;33m=\u001b[0m\u001b[1;36m1000\u001b[0m\u001b[1;33m,\u001b[0m\u001b[1;33m\n",
       "\u001b[0m    \u001b[0mnum_trading_days\u001b[0m\u001b[1;33m=\u001b[0m\u001b[1;36m252\u001b[0m\u001b[1;33m,\u001b[0m\u001b[1;33m\n",
       "\u001b[0m\u001b[1;33m)\u001b[0m\u001b[1;33m\u001b[0m\u001b[1;33m\u001b[0m\u001b[0m\n",
       "\u001b[1;31mDocstring:\u001b[0m     \n",
       "A Python class for runnning Monte Carlo simulation on portfolio price data. \n",
       "\n",
       "...\n",
       "\n",
       "Attributes\n",
       "----------\n",
       "portfolio_data : pandas.DataFrame\n",
       "    portfolio dataframe\n",
       "weights: list(float)\n",
       "    portfolio investment breakdown\n",
       "nSim: int\n",
       "    number of samples in simulation\n",
       "nTrading: int\n",
       "    number of trading days to simulate\n",
       "simulated_return : pandas.DataFrame\n",
       "    Simulated data from Monte Carlo\n",
       "confidence_interval : pandas.Series\n",
       "    the 95% confidence intervals for simulated final cumulative returns\n",
       "    \n",
       "\u001b[1;31mInit docstring:\u001b[0m\n",
       "Constructs all the necessary attributes for the MCSimulation object.\n",
       "\n",
       "Parameters\n",
       "----------\n",
       "portfolio_data: pandas.DataFrame\n",
       "    DataFrame containing stock price information from Alpaca API\n",
       "weights: list(float)\n",
       "    A list fractions representing percentage of total investment per stock. DEFAULT: Equal distribution\n",
       "num_simulation: int\n",
       "    Number of simulation samples. DEFAULT: 1000 simulation samples\n",
       "num_trading_days: int\n",
       "    Number of trading days to simulate. DEFAULT: 252 days (1 year of business days)\n",
       "\u001b[1;31mFile:\u001b[0m           c:\\users\\docfe\\desktop\\boot\\bootcamp_github\\week5\\github\\homework_api\\instructions\\mcforecasttools.py\n",
       "\u001b[1;31mType:\u001b[0m           type\n",
       "\u001b[1;31mSubclasses:\u001b[0m     \n"
      ]
     },
     "metadata": {},
     "output_type": "display_data"
    }
   ],
   "source": [
    "?MCSimulation"
   ]
  },
  {
   "cell_type": "code",
   "execution_count": 312,
   "metadata": {},
   "outputs": [
    {
     "data": {
      "text/plain": [
       "<MCForecastTools.MCSimulation at 0x1b21fbef788>"
      ]
     },
     "execution_count": 312,
     "metadata": {},
     "output_type": "execute_result"
    }
   ],
   "source": [
    "# Running a Monte Carlo simulation to forecast 30 years cumulative returns\n",
    "# Init signature\n",
    "MCSimulation(\n",
    "    portfolio_data = df_ticker,\n",
    "    weights='',\n",
    "    num_simulation=1000,\n",
    "    num_trading_days=252,\n",
    ")"
   ]
  },
  {
   "cell_type": "code",
   "execution_count": 314,
   "metadata": {},
   "outputs": [],
   "source": [
    "# Running a Monte Carlo simulation to forecast 30 years cumulative returns\n",
    "MC_thirtyear = MCSimulation(\n",
    "    portfolio_data = df_ticker,\n",
    "    weights = [.40,.60],\n",
    "    num_simulation = 500,\n",
    "    num_trading_days = 252*30\n",
    ")"
   ]
  },
  {
   "cell_type": "code",
   "execution_count": 315,
   "metadata": {},
   "outputs": [
    {
     "name": "stdout",
     "output_type": "stream",
     "text": [
      "Running Monte Carlo simulation number 0.\n",
      "Running Monte Carlo simulation number 10.\n",
      "Running Monte Carlo simulation number 20.\n",
      "Running Monte Carlo simulation number 30.\n",
      "Running Monte Carlo simulation number 40.\n",
      "Running Monte Carlo simulation number 50.\n",
      "Running Monte Carlo simulation number 60.\n",
      "Running Monte Carlo simulation number 70.\n",
      "Running Monte Carlo simulation number 80.\n",
      "Running Monte Carlo simulation number 90.\n",
      "Running Monte Carlo simulation number 100.\n",
      "Running Monte Carlo simulation number 110.\n",
      "Running Monte Carlo simulation number 120.\n",
      "Running Monte Carlo simulation number 130.\n",
      "Running Monte Carlo simulation number 140.\n",
      "Running Monte Carlo simulation number 150.\n",
      "Running Monte Carlo simulation number 160.\n",
      "Running Monte Carlo simulation number 170.\n",
      "Running Monte Carlo simulation number 180.\n",
      "Running Monte Carlo simulation number 190.\n",
      "Running Monte Carlo simulation number 200.\n",
      "Running Monte Carlo simulation number 210.\n",
      "Running Monte Carlo simulation number 220.\n",
      "Running Monte Carlo simulation number 230.\n",
      "Running Monte Carlo simulation number 240.\n",
      "Running Monte Carlo simulation number 250.\n",
      "Running Monte Carlo simulation number 260.\n",
      "Running Monte Carlo simulation number 270.\n",
      "Running Monte Carlo simulation number 280.\n",
      "Running Monte Carlo simulation number 290.\n",
      "Running Monte Carlo simulation number 300.\n",
      "Running Monte Carlo simulation number 310.\n",
      "Running Monte Carlo simulation number 320.\n",
      "Running Monte Carlo simulation number 330.\n",
      "Running Monte Carlo simulation number 340.\n",
      "Running Monte Carlo simulation number 350.\n",
      "Running Monte Carlo simulation number 360.\n",
      "Running Monte Carlo simulation number 370.\n",
      "Running Monte Carlo simulation number 380.\n",
      "Running Monte Carlo simulation number 390.\n",
      "Running Monte Carlo simulation number 400.\n",
      "Running Monte Carlo simulation number 410.\n",
      "Running Monte Carlo simulation number 420.\n",
      "Running Monte Carlo simulation number 430.\n",
      "Running Monte Carlo simulation number 440.\n",
      "Running Monte Carlo simulation number 450.\n",
      "Running Monte Carlo simulation number 460.\n",
      "Running Monte Carlo simulation number 470.\n",
      "Running Monte Carlo simulation number 480.\n",
      "Running Monte Carlo simulation number 490.\n"
     ]
    },
    {
     "data": {
      "image/png": "[encoded data removed]",
      "text/plain": [
       "<Figure size 432x288 with 1 Axes>"
      ]
     },
     "metadata": {
      "needs_background": "light"
     },
     "output_type": "display_data"
    }
   ],
   "source": [
    "# Plot simulation outcomes\n",
    "line_plot = MC_fiveyear.plot_simulation()"
   ]
  },
  {
   "cell_type": "code",
   "execution_count": 316,
   "metadata": {},
   "outputs": [
    {
     "data": {
      "image/png": "[encoded data removed]",
      "text/plain": [
       "<Figure size 432x288 with 1 Axes>"
      ]
     },
     "metadata": {
      "needs_background": "light"
     },
     "output_type": "display_data"
    }
   ],
   "source": [
    "# Plot probability distribution and confidence intervals\n",
    "dist_plot = MC_fiveyear.plot_distribution()"
   ]
  },
  {
   "cell_type": "markdown",
   "metadata": {},
   "source": [
    "## Retirement Analysis"
   ]
  },
  {
   "cell_type": "code",
   "execution_count": 318,
   "metadata": {},
   "outputs": [
    {
     "name": "stdout",
     "output_type": "stream",
     "text": [
      "count           500.000000\n",
      "mean              1.504754\n",
      "std               0.405458\n",
      "min               0.591212\n",
      "25%               1.231979\n",
      "50%               1.426011\n",
      "75%               1.736351\n",
      "max               4.762588\n",
      "95% CI Lower      0.899789\n",
      "95% CI Upper      2.433058\n",
      "Name: 1260, dtype: float64\n"
     ]
    }
   ],
   "source": [
    "# Fetch summary statistics from the Monte Carlo simulation results\n",
    "tbl = MC_fiveyear.summarize_cumulative_return()\n",
    "\n",
    "# Print summary statistics\n",
    "print(tbl)"
   ]
  },
  {
   "cell_type": "markdown",
   "metadata": {},
   "source": [
    "## Calculate the expected portfolio return at the 95% lower and upper confidence intervals based on a $20,000 initial investment."
   ]
  },
  {
   "cell_type": "code",
   "execution_count": 320,
   "metadata": {},
   "outputs": [
    {
     "name": "stdout",
     "output_type": "stream",
     "text": [
      "There is a 95% chance that an initial investment of $20000 in the portfolio over the next 30 years will end within in the range of $17995.79 and $48661.15\n"
     ]
    }
   ],
   "source": [
    "# Set initial investment\n",
    "initial_investment = 20000\n",
    "\n",
    "# Use the lower and upper `95%` confidence intervals to calculate the range of the possible outcomes of our $20,000\n",
    "ci_lower = round(tbl[8]*20000,2)\n",
    "ci_upper = round(tbl[9]*20000,2)\n",
    "\n",
    "# Print results\n",
    "print(f\"There is a 95% chance that an initial investment of ${initial_investment} in the portfolio\"\n",
    "      f\" over the next 30 years will end within in the range of\"\n",
    "      f\" ${ci_lower} and ${ci_upper}\")"
   ]
  },
  {
   "cell_type": "markdown",
   "metadata": {},
   "source": [
    "## Calculate the expected portfolio return at the 95% lower and upper confidence intervals based on a 50% increase in the initial investment."
   ]
  },
  {
   "cell_type": "code",
   "execution_count": 321,
   "metadata": {},
   "outputs": [
    {
     "name": "stdout",
     "output_type": "stream",
     "text": [
      "There is a 95% chance that an initial investment of $30000.0 in the portfolio over the next 30 years will end within in the range of $26993.68 and $72991.73\n"
     ]
    }
   ],
   "source": [
    "# Set initial investment\n",
    "initial_investment = 20000 * 1.5\n",
    "\n",
    "# Use the lower and upper `95%` confidence intervals to calculate the range of the possible outcomes of our $30,000\n",
    "ci_lower = round(tbl[8]*30000,2)\n",
    "ci_upper = round(tbl[9]*30000,2)\n",
    "\n",
    "# Print results\n",
    "print(f\"There is a 95% chance that an initial investment of ${initial_investment} in the portfolio\"\n",
    "      f\" over the next 30 years will end within in the range of\"\n",
    "      f\" ${ci_lower} and ${ci_upper}\")"
   ]
  },
  {
   "cell_type": "markdown",
   "metadata": {},
   "source": [
    "# Optional Challenge - Early Retirement\n",
    "\n",
    "## Five Years Retirement Option"
   ]
  },
  {
   "cell_type": "code",
   "execution_count": 356,
   "metadata": {},
   "outputs": [],
   "source": [
    "# Configuring a Monte Carlo simulation to forecast five year cumulative returns\n",
    "MC_even_dist = MCSimulation(\n",
    "    portfolio_data = df_ticker,\n",
    "    weights = [.40,.60],\n",
    "    num_simulation = 100,\n",
    "    num_trading_days = 252*1\n",
    ")"
   ]
  },
  {
   "cell_type": "code",
   "execution_count": 357,
   "metadata": {},
   "outputs": [
    {
     "data": {
      "text/html": [
       "<div>\n",
       "<style scoped>\n",
       "    .dataframe tbody tr th:only-of-type {\n",
       "        vertical-align: middle;\n",
       "    }\n",
       "\n",
       "    .dataframe tbody tr th {\n",
       "        vertical-align: top;\n",
       "    }\n",
       "\n",
       "    .dataframe thead tr th {\n",
       "        text-align: left;\n",
       "    }\n",
       "</style>\n",
       "<table border=\"1\" class=\"dataframe\">\n",
       "  <thead>\n",
       "    <tr>\n",
       "      <th></th>\n",
       "      <th colspan=\"6\" halign=\"left\">AGG</th>\n",
       "      <th colspan=\"6\" halign=\"left\">SPY</th>\n",
       "    </tr>\n",
       "    <tr>\n",
       "      <th></th>\n",
       "      <th>open</th>\n",
       "      <th>high</th>\n",
       "      <th>low</th>\n",
       "      <th>close</th>\n",
       "      <th>volume</th>\n",
       "      <th>daily_return</th>\n",
       "      <th>open</th>\n",
       "      <th>high</th>\n",
       "      <th>low</th>\n",
       "      <th>close</th>\n",
       "      <th>volume</th>\n",
       "      <th>daily_return</th>\n",
       "    </tr>\n",
       "  </thead>\n",
       "  <tbody>\n",
       "    <tr>\n",
       "      <th>2015-10-16 00:00:00-04:00</th>\n",
       "      <td>109.90</td>\n",
       "      <td>109.940</td>\n",
       "      <td>109.78</td>\n",
       "      <td>109.78</td>\n",
       "      <td>1497588.0</td>\n",
       "      <td>NaN</td>\n",
       "      <td>202.83</td>\n",
       "      <td>203.29</td>\n",
       "      <td>201.9200</td>\n",
       "      <td>203.14</td>\n",
       "      <td>79323870</td>\n",
       "      <td>NaN</td>\n",
       "    </tr>\n",
       "    <tr>\n",
       "      <th>2015-10-19 00:00:00-04:00</th>\n",
       "      <td>109.78</td>\n",
       "      <td>109.895</td>\n",
       "      <td>109.65</td>\n",
       "      <td>109.85</td>\n",
       "      <td>1289942.0</td>\n",
       "      <td>0.000638</td>\n",
       "      <td>202.50</td>\n",
       "      <td>203.37</td>\n",
       "      <td>202.1300</td>\n",
       "      <td>203.33</td>\n",
       "      <td>61255929</td>\n",
       "      <td>0.000935</td>\n",
       "    </tr>\n",
       "    <tr>\n",
       "      <th>2015-10-20 00:00:00-04:00</th>\n",
       "      <td>109.64</td>\n",
       "      <td>109.780</td>\n",
       "      <td>109.55</td>\n",
       "      <td>109.65</td>\n",
       "      <td>1672562.0</td>\n",
       "      <td>-0.001821</td>\n",
       "      <td>202.85</td>\n",
       "      <td>203.84</td>\n",
       "      <td>202.5471</td>\n",
       "      <td>203.07</td>\n",
       "      <td>60081395</td>\n",
       "      <td>-0.001279</td>\n",
       "    </tr>\n",
       "    <tr>\n",
       "      <th>2015-10-21 00:00:00-04:00</th>\n",
       "      <td>109.73</td>\n",
       "      <td>109.950</td>\n",
       "      <td>109.73</td>\n",
       "      <td>109.89</td>\n",
       "      <td>1119723.0</td>\n",
       "      <td>0.002189</td>\n",
       "      <td>203.61</td>\n",
       "      <td>203.79</td>\n",
       "      <td>201.6500</td>\n",
       "      <td>201.82</td>\n",
       "      <td>83704739</td>\n",
       "      <td>-0.006156</td>\n",
       "    </tr>\n",
       "    <tr>\n",
       "      <th>2015-10-22 00:00:00-04:00</th>\n",
       "      <td>109.90</td>\n",
       "      <td>110.050</td>\n",
       "      <td>109.83</td>\n",
       "      <td>109.94</td>\n",
       "      <td>1817244.0</td>\n",
       "      <td>0.000455</td>\n",
       "      <td>202.98</td>\n",
       "      <td>205.51</td>\n",
       "      <td>202.8100</td>\n",
       "      <td>205.22</td>\n",
       "      <td>121670959</td>\n",
       "      <td>0.016847</td>\n",
       "    </tr>\n",
       "  </tbody>\n",
       "</table>\n",
       "</div>"
      ],
      "text/plain": [
       "                              AGG                                      \\\n",
       "                             open     high     low   close     volume   \n",
       "2015-10-16 00:00:00-04:00  109.90  109.940  109.78  109.78  1497588.0   \n",
       "2015-10-19 00:00:00-04:00  109.78  109.895  109.65  109.85  1289942.0   \n",
       "2015-10-20 00:00:00-04:00  109.64  109.780  109.55  109.65  1672562.0   \n",
       "2015-10-21 00:00:00-04:00  109.73  109.950  109.73  109.89  1119723.0   \n",
       "2015-10-22 00:00:00-04:00  109.90  110.050  109.83  109.94  1817244.0   \n",
       "\n",
       "                                           SPY                            \\\n",
       "                          daily_return    open    high       low   close   \n",
       "2015-10-16 00:00:00-04:00          NaN  202.83  203.29  201.9200  203.14   \n",
       "2015-10-19 00:00:00-04:00     0.000638  202.50  203.37  202.1300  203.33   \n",
       "2015-10-20 00:00:00-04:00    -0.001821  202.85  203.84  202.5471  203.07   \n",
       "2015-10-21 00:00:00-04:00     0.002189  203.61  203.79  201.6500  201.82   \n",
       "2015-10-22 00:00:00-04:00     0.000455  202.98  205.51  202.8100  205.22   \n",
       "\n",
       "                                                   \n",
       "                              volume daily_return  \n",
       "2015-10-16 00:00:00-04:00   79323870          NaN  \n",
       "2015-10-19 00:00:00-04:00   61255929     0.000935  \n",
       "2015-10-20 00:00:00-04:00   60081395    -0.001279  \n",
       "2015-10-21 00:00:00-04:00   83704739    -0.006156  \n",
       "2015-10-22 00:00:00-04:00  121670959     0.016847  "
      ]
     },
     "execution_count": 357,
     "metadata": {},
     "output_type": "execute_result"
    }
   ],
   "source": [
    "# Running a Monte Carlo simulation to forecast 5 years cumulative returns\n",
    "MC_even_dist.portfolio_data.head()"
   ]
  },
  {
   "cell_type": "code",
   "execution_count": 358,
   "metadata": {},
   "outputs": [
    {
     "name": "stdout",
     "output_type": "stream",
     "text": [
      "Running Monte Carlo simulation number 0.\n",
      "Running Monte Carlo simulation number 10.\n",
      "Running Monte Carlo simulation number 20.\n",
      "Running Monte Carlo simulation number 30.\n",
      "Running Monte Carlo simulation number 40.\n",
      "Running Monte Carlo simulation number 50.\n",
      "Running Monte Carlo simulation number 60.\n",
      "Running Monte Carlo simulation number 70.\n",
      "Running Monte Carlo simulation number 80.\n",
      "Running Monte Carlo simulation number 90.\n",
      "Running Monte Carlo simulation number 100.\n",
      "Running Monte Carlo simulation number 110.\n",
      "Running Monte Carlo simulation number 120.\n",
      "Running Monte Carlo simulation number 130.\n",
      "Running Monte Carlo simulation number 140.\n",
      "Running Monte Carlo simulation number 150.\n",
      "Running Monte Carlo simulation number 160.\n",
      "Running Monte Carlo simulation number 170.\n",
      "Running Monte Carlo simulation number 180.\n",
      "Running Monte Carlo simulation number 190.\n",
      "Running Monte Carlo simulation number 200.\n",
      "Running Monte Carlo simulation number 210.\n",
      "Running Monte Carlo simulation number 220.\n",
      "Running Monte Carlo simulation number 230.\n",
      "Running Monte Carlo simulation number 240.\n",
      "Running Monte Carlo simulation number 250.\n",
      "Running Monte Carlo simulation number 260.\n",
      "Running Monte Carlo simulation number 270.\n",
      "Running Monte Carlo simulation number 280.\n",
      "Running Monte Carlo simulation number 290.\n",
      "Running Monte Carlo simulation number 300.\n",
      "Running Monte Carlo simulation number 310.\n",
      "Running Monte Carlo simulation number 320.\n",
      "Running Monte Carlo simulation number 330.\n",
      "Running Monte Carlo simulation number 340.\n",
      "Running Monte Carlo simulation number 350.\n",
      "Running Monte Carlo simulation number 360.\n",
      "Running Monte Carlo simulation number 370.\n",
      "Running Monte Carlo simulation number 380.\n",
      "Running Monte Carlo simulation number 390.\n",
      "Running Monte Carlo simulation number 400.\n",
      "Running Monte Carlo simulation number 410.\n",
      "Running Monte Carlo simulation number 420.\n",
      "Running Monte Carlo simulation number 430.\n",
      "Running Monte Carlo simulation number 440.\n",
      "Running Monte Carlo simulation number 450.\n",
      "Running Monte Carlo simulation number 460.\n",
      "Running Monte Carlo simulation number 470.\n",
      "Running Monte Carlo simulation number 480.\n",
      "Running Monte Carlo simulation number 490.\n"
     ]
    },
    {
     "data": {
      "text/html": [
       "<div>\n",
       "<style scoped>\n",
       "    .dataframe tbody tr th:only-of-type {\n",
       "        vertical-align: middle;\n",
       "    }\n",
       "\n",
       "    .dataframe tbody tr th {\n",
       "        vertical-align: top;\n",
       "    }\n",
       "\n",
       "    .dataframe thead th {\n",
       "        text-align: right;\n",
       "    }\n",
       "</style>\n",
       "<table border=\"1\" class=\"dataframe\">\n",
       "  <thead>\n",
       "    <tr style=\"text-align: right;\">\n",
       "      <th></th>\n",
       "      <th>0</th>\n",
       "      <th>1</th>\n",
       "      <th>2</th>\n",
       "      <th>3</th>\n",
       "      <th>4</th>\n",
       "      <th>5</th>\n",
       "      <th>6</th>\n",
       "      <th>7</th>\n",
       "      <th>8</th>\n",
       "      <th>9</th>\n",
       "      <th>...</th>\n",
       "      <th>490</th>\n",
       "      <th>491</th>\n",
       "      <th>492</th>\n",
       "      <th>493</th>\n",
       "      <th>494</th>\n",
       "      <th>495</th>\n",
       "      <th>496</th>\n",
       "      <th>497</th>\n",
       "      <th>498</th>\n",
       "      <th>499</th>\n",
       "    </tr>\n",
       "  </thead>\n",
       "  <tbody>\n",
       "    <tr>\n",
       "      <th>0</th>\n",
       "      <td>1.000000</td>\n",
       "      <td>1.000000</td>\n",
       "      <td>1.000000</td>\n",
       "      <td>1.000000</td>\n",
       "      <td>1.000000</td>\n",
       "      <td>1.000000</td>\n",
       "      <td>1.000000</td>\n",
       "      <td>1.000000</td>\n",
       "      <td>1.000000</td>\n",
       "      <td>1.000000</td>\n",
       "      <td>...</td>\n",
       "      <td>1.000000</td>\n",
       "      <td>1.000000</td>\n",
       "      <td>1.000000</td>\n",
       "      <td>1.000000</td>\n",
       "      <td>1.000000</td>\n",
       "      <td>1.000000</td>\n",
       "      <td>1.000000</td>\n",
       "      <td>1.000000</td>\n",
       "      <td>1.000000</td>\n",
       "      <td>1.000000</td>\n",
       "    </tr>\n",
       "    <tr>\n",
       "      <th>1</th>\n",
       "      <td>0.995799</td>\n",
       "      <td>1.009319</td>\n",
       "      <td>1.004567</td>\n",
       "      <td>0.999121</td>\n",
       "      <td>0.981284</td>\n",
       "      <td>1.000942</td>\n",
       "      <td>0.988564</td>\n",
       "      <td>1.002928</td>\n",
       "      <td>1.005270</td>\n",
       "      <td>1.000558</td>\n",
       "      <td>...</td>\n",
       "      <td>0.997060</td>\n",
       "      <td>0.987547</td>\n",
       "      <td>0.995730</td>\n",
       "      <td>1.006992</td>\n",
       "      <td>1.005380</td>\n",
       "      <td>0.996420</td>\n",
       "      <td>0.990850</td>\n",
       "      <td>1.009500</td>\n",
       "      <td>1.007178</td>\n",
       "      <td>0.992515</td>\n",
       "    </tr>\n",
       "    <tr>\n",
       "      <th>2</th>\n",
       "      <td>1.001963</td>\n",
       "      <td>1.009142</td>\n",
       "      <td>1.007549</td>\n",
       "      <td>0.976025</td>\n",
       "      <td>0.981819</td>\n",
       "      <td>1.014793</td>\n",
       "      <td>0.979948</td>\n",
       "      <td>1.008770</td>\n",
       "      <td>1.009396</td>\n",
       "      <td>1.002374</td>\n",
       "      <td>...</td>\n",
       "      <td>0.988936</td>\n",
       "      <td>0.977181</td>\n",
       "      <td>1.010198</td>\n",
       "      <td>0.994988</td>\n",
       "      <td>1.007581</td>\n",
       "      <td>0.999281</td>\n",
       "      <td>0.984754</td>\n",
       "      <td>1.006606</td>\n",
       "      <td>1.004770</td>\n",
       "      <td>1.006540</td>\n",
       "    </tr>\n",
       "    <tr>\n",
       "      <th>3</th>\n",
       "      <td>0.998029</td>\n",
       "      <td>1.012522</td>\n",
       "      <td>1.005529</td>\n",
       "      <td>0.990695</td>\n",
       "      <td>0.976336</td>\n",
       "      <td>1.014645</td>\n",
       "      <td>0.990004</td>\n",
       "      <td>1.005100</td>\n",
       "      <td>1.009729</td>\n",
       "      <td>0.994257</td>\n",
       "      <td>...</td>\n",
       "      <td>1.000461</td>\n",
       "      <td>0.976972</td>\n",
       "      <td>1.011956</td>\n",
       "      <td>0.986521</td>\n",
       "      <td>1.012215</td>\n",
       "      <td>0.997675</td>\n",
       "      <td>0.988249</td>\n",
       "      <td>1.007784</td>\n",
       "      <td>1.011724</td>\n",
       "      <td>1.020104</td>\n",
       "    </tr>\n",
       "    <tr>\n",
       "      <th>4</th>\n",
       "      <td>1.005557</td>\n",
       "      <td>1.010700</td>\n",
       "      <td>1.001016</td>\n",
       "      <td>0.992263</td>\n",
       "      <td>0.971916</td>\n",
       "      <td>1.014685</td>\n",
       "      <td>0.995377</td>\n",
       "      <td>1.006862</td>\n",
       "      <td>1.000164</td>\n",
       "      <td>0.986089</td>\n",
       "      <td>...</td>\n",
       "      <td>0.998400</td>\n",
       "      <td>0.991839</td>\n",
       "      <td>1.035092</td>\n",
       "      <td>0.992241</td>\n",
       "      <td>1.007766</td>\n",
       "      <td>0.991086</td>\n",
       "      <td>0.985872</td>\n",
       "      <td>1.010717</td>\n",
       "      <td>1.010277</td>\n",
       "      <td>1.015741</td>\n",
       "    </tr>\n",
       "    <tr>\n",
       "      <th>...</th>\n",
       "      <td>...</td>\n",
       "      <td>...</td>\n",
       "      <td>...</td>\n",
       "      <td>...</td>\n",
       "      <td>...</td>\n",
       "      <td>...</td>\n",
       "      <td>...</td>\n",
       "      <td>...</td>\n",
       "      <td>...</td>\n",
       "      <td>...</td>\n",
       "      <td>...</td>\n",
       "      <td>...</td>\n",
       "      <td>...</td>\n",
       "      <td>...</td>\n",
       "      <td>...</td>\n",
       "      <td>...</td>\n",
       "      <td>...</td>\n",
       "      <td>...</td>\n",
       "      <td>...</td>\n",
       "      <td>...</td>\n",
       "      <td>...</td>\n",
       "    </tr>\n",
       "    <tr>\n",
       "      <th>1256</th>\n",
       "      <td>1.042586</td>\n",
       "      <td>1.108580</td>\n",
       "      <td>1.051667</td>\n",
       "      <td>1.822384</td>\n",
       "      <td>1.232850</td>\n",
       "      <td>1.837081</td>\n",
       "      <td>1.386314</td>\n",
       "      <td>0.855235</td>\n",
       "      <td>1.287253</td>\n",
       "      <td>1.027455</td>\n",
       "      <td>...</td>\n",
       "      <td>1.726476</td>\n",
       "      <td>1.182924</td>\n",
       "      <td>0.949216</td>\n",
       "      <td>1.257009</td>\n",
       "      <td>1.077748</td>\n",
       "      <td>1.502095</td>\n",
       "      <td>2.397652</td>\n",
       "      <td>1.046901</td>\n",
       "      <td>2.329995</td>\n",
       "      <td>2.003500</td>\n",
       "    </tr>\n",
       "    <tr>\n",
       "      <th>1257</th>\n",
       "      <td>1.039500</td>\n",
       "      <td>1.108618</td>\n",
       "      <td>1.057814</td>\n",
       "      <td>1.822517</td>\n",
       "      <td>1.237861</td>\n",
       "      <td>1.829207</td>\n",
       "      <td>1.389785</td>\n",
       "      <td>0.865214</td>\n",
       "      <td>1.295977</td>\n",
       "      <td>1.017226</td>\n",
       "      <td>...</td>\n",
       "      <td>1.734469</td>\n",
       "      <td>1.187893</td>\n",
       "      <td>0.952597</td>\n",
       "      <td>1.262683</td>\n",
       "      <td>1.081043</td>\n",
       "      <td>1.490357</td>\n",
       "      <td>2.423549</td>\n",
       "      <td>1.054442</td>\n",
       "      <td>2.342458</td>\n",
       "      <td>2.026859</td>\n",
       "    </tr>\n",
       "    <tr>\n",
       "      <th>1258</th>\n",
       "      <td>1.041502</td>\n",
       "      <td>1.093599</td>\n",
       "      <td>1.053853</td>\n",
       "      <td>1.824424</td>\n",
       "      <td>1.240492</td>\n",
       "      <td>1.847457</td>\n",
       "      <td>1.395256</td>\n",
       "      <td>0.871446</td>\n",
       "      <td>1.286277</td>\n",
       "      <td>1.017951</td>\n",
       "      <td>...</td>\n",
       "      <td>1.747574</td>\n",
       "      <td>1.180580</td>\n",
       "      <td>0.952483</td>\n",
       "      <td>1.260810</td>\n",
       "      <td>1.092306</td>\n",
       "      <td>1.490761</td>\n",
       "      <td>2.439752</td>\n",
       "      <td>1.054483</td>\n",
       "      <td>2.369322</td>\n",
       "      <td>2.035049</td>\n",
       "    </tr>\n",
       "    <tr>\n",
       "      <th>1259</th>\n",
       "      <td>1.036624</td>\n",
       "      <td>1.104564</td>\n",
       "      <td>1.053070</td>\n",
       "      <td>1.815464</td>\n",
       "      <td>1.243017</td>\n",
       "      <td>1.857719</td>\n",
       "      <td>1.387901</td>\n",
       "      <td>0.875494</td>\n",
       "      <td>1.277619</td>\n",
       "      <td>1.030074</td>\n",
       "      <td>...</td>\n",
       "      <td>1.758161</td>\n",
       "      <td>1.192006</td>\n",
       "      <td>0.945677</td>\n",
       "      <td>1.250131</td>\n",
       "      <td>1.101034</td>\n",
       "      <td>1.492710</td>\n",
       "      <td>2.446772</td>\n",
       "      <td>1.060976</td>\n",
       "      <td>2.354715</td>\n",
       "      <td>2.001128</td>\n",
       "    </tr>\n",
       "    <tr>\n",
       "      <th>1260</th>\n",
       "      <td>1.029250</td>\n",
       "      <td>1.096607</td>\n",
       "      <td>1.065762</td>\n",
       "      <td>1.819206</td>\n",
       "      <td>1.245183</td>\n",
       "      <td>1.869168</td>\n",
       "      <td>1.377387</td>\n",
       "      <td>0.888387</td>\n",
       "      <td>1.282087</td>\n",
       "      <td>1.036078</td>\n",
       "      <td>...</td>\n",
       "      <td>1.736440</td>\n",
       "      <td>1.207745</td>\n",
       "      <td>0.954691</td>\n",
       "      <td>1.269195</td>\n",
       "      <td>1.088274</td>\n",
       "      <td>1.501597</td>\n",
       "      <td>2.463132</td>\n",
       "      <td>1.060823</td>\n",
       "      <td>2.329445</td>\n",
       "      <td>1.990695</td>\n",
       "    </tr>\n",
       "  </tbody>\n",
       "</table>\n",
       "<p>1261 rows × 500 columns</p>\n",
       "</div>"
      ],
      "text/plain": [
       "           0         1         2         3         4         5         6    \\\n",
       "0     1.000000  1.000000  1.000000  1.000000  1.000000  1.000000  1.000000   \n",
       "1     0.995799  1.009319  1.004567  0.999121  0.981284  1.000942  0.988564   \n",
       "2     1.001963  1.009142  1.007549  0.976025  0.981819  1.014793  0.979948   \n",
       "3     0.998029  1.012522  1.005529  0.990695  0.976336  1.014645  0.990004   \n",
       "4     1.005557  1.010700  1.001016  0.992263  0.971916  1.014685  0.995377   \n",
       "...        ...       ...       ...       ...       ...       ...       ...   \n",
       "1256  1.042586  1.108580  1.051667  1.822384  1.232850  1.837081  1.386314   \n",
       "1257  1.039500  1.108618  1.057814  1.822517  1.237861  1.829207  1.389785   \n",
       "1258  1.041502  1.093599  1.053853  1.824424  1.240492  1.847457  1.395256   \n",
       "1259  1.036624  1.104564  1.053070  1.815464  1.243017  1.857719  1.387901   \n",
       "1260  1.029250  1.096607  1.065762  1.819206  1.245183  1.869168  1.377387   \n",
       "\n",
       "           7         8         9    ...       490       491       492  \\\n",
       "0     1.000000  1.000000  1.000000  ...  1.000000  1.000000  1.000000   \n",
       "1     1.002928  1.005270  1.000558  ...  0.997060  0.987547  0.995730   \n",
       "2     1.008770  1.009396  1.002374  ...  0.988936  0.977181  1.010198   \n",
       "3     1.005100  1.009729  0.994257  ...  1.000461  0.976972  1.011956   \n",
       "4     1.006862  1.000164  0.986089  ...  0.998400  0.991839  1.035092   \n",
       "...        ...       ...       ...  ...       ...       ...       ...   \n",
       "1256  0.855235  1.287253  1.027455  ...  1.726476  1.182924  0.949216   \n",
       "1257  0.865214  1.295977  1.017226  ...  1.734469  1.187893  0.952597   \n",
       "1258  0.871446  1.286277  1.017951  ...  1.747574  1.180580  0.952483   \n",
       "1259  0.875494  1.277619  1.030074  ...  1.758161  1.192006  0.945677   \n",
       "1260  0.888387  1.282087  1.036078  ...  1.736440  1.207745  0.954691   \n",
       "\n",
       "           493       494       495       496       497       498       499  \n",
       "0     1.000000  1.000000  1.000000  1.000000  1.000000  1.000000  1.000000  \n",
       "1     1.006992  1.005380  0.996420  0.990850  1.009500  1.007178  0.992515  \n",
       "2     0.994988  1.007581  0.999281  0.984754  1.006606  1.004770  1.006540  \n",
       "3     0.986521  1.012215  0.997675  0.988249  1.007784  1.011724  1.020104  \n",
       "4     0.992241  1.007766  0.991086  0.985872  1.010717  1.010277  1.015741  \n",
       "...        ...       ...       ...       ...       ...       ...       ...  \n",
       "1256  1.257009  1.077748  1.502095  2.397652  1.046901  2.329995  2.003500  \n",
       "1257  1.262683  1.081043  1.490357  2.423549  1.054442  2.342458  2.026859  \n",
       "1258  1.260810  1.092306  1.490761  2.439752  1.054483  2.369322  2.035049  \n",
       "1259  1.250131  1.101034  1.492710  2.446772  1.060976  2.354715  2.001128  \n",
       "1260  1.269195  1.088274  1.501597  2.463132  1.060823  2.329445  1.990695  \n",
       "\n",
       "[1261 rows x 500 columns]"
      ]
     },
     "execution_count": 358,
     "metadata": {},
     "output_type": "execute_result"
    }
   ],
   "source": [
    "# Running a Monte Carlo simulation to forecast five years cumulative returns\n",
    "MC_fiveyear.calc_cumulative_return()"
   ]
  },
  {
   "cell_type": "code",
   "execution_count": 359,
   "metadata": {},
   "outputs": [
    {
     "data": {
      "image/png": "[encoded data removed]",
      "text/plain": [
       "<Figure size 432x288 with 1 Axes>"
      ]
     },
     "metadata": {
      "needs_background": "light"
     },
     "output_type": "display_data"
    }
   ],
   "source": [
    "# Plot simulation outcomes\n",
    "line_plot = MC_fiveyear.plot_simulation()"
   ]
  },
  {
   "cell_type": "code",
   "execution_count": 360,
   "metadata": {},
   "outputs": [
    {
     "data": {
      "image/png": "[encoded data removed]",
      "text/plain": [
       "<Figure size 432x288 with 1 Axes>"
      ]
     },
     "metadata": {
      "needs_background": "light"
     },
     "output_type": "display_data"
    }
   ],
   "source": [
    "# Plot probability distribution and confidence intervals\n",
    "dist_plot = MC_fiveyear.plot_distribution()"
   ]
  },
  {
   "cell_type": "code",
   "execution_count": 361,
   "metadata": {},
   "outputs": [
    {
     "name": "stdout",
     "output_type": "stream",
     "text": [
      "count           500.000000\n",
      "mean              1.484965\n",
      "std               0.381953\n",
      "min               0.602936\n",
      "25%               1.216950\n",
      "50%               1.431859\n",
      "75%               1.733570\n",
      "max               3.014002\n",
      "95% CI Lower      0.871417\n",
      "95% CI Upper      2.366396\n",
      "Name: 1260, dtype: float64\n"
     ]
    }
   ],
   "source": [
    "# Fetch summary statistics from the Monte Carlo simulation results\n",
    "tbl = MC_fiveyear.summarize_cumulative_return()\n",
    "# Print summary statistics\n",
    "print(tbl)"
   ]
  },
  {
   "cell_type": "code",
   "execution_count": 362,
   "metadata": {},
   "outputs": [
    {
     "name": "stdout",
     "output_type": "stream",
     "text": [
      "There is a 95% chance that an initial investment of $30000.0 in the portfolio over the next 5 years will end within in the range of $52285.0 and $141983.78\n"
     ]
    }
   ],
   "source": [
    "# Use the lower and upper `95%` confidence intervals to calculate the range of the possible outcomes of our $60,000\n",
    "ci_lower_five = round(tbl[8]*60000,2)\n",
    "ci_upper_five = round(tbl[9]*60000,2)\n",
    "\n",
    "# Print results\n",
    "print(f\"There is a 95% chance that an initial investment of ${initial_investment} in the portfolio\"\n",
    "      f\" over the next 5 years will end within in the range of\"\n",
    "      f\" ${ci_lower_five} and ${ci_upper_five}\")"
   ]
  },
  {
   "cell_type": "markdown",
   "metadata": {},
   "source": [
    "## Ten Years Retirement Option"
   ]
  },
  {
   "cell_type": "code",
   "execution_count": 363,
   "metadata": {},
   "outputs": [],
   "source": [
    "# Configuring a Monte Carlo simulation to forecast 10 years cumulative returns\n",
    "MC_even_dist = MCSimulation(\n",
    "    portfolio_data = df_ticker,\n",
    "    weights = [.40,.60],\n",
    "    num_simulation = 100,\n",
    "    num_trading_days = 252*1\n",
    ")"
   ]
  },
  {
   "cell_type": "code",
   "execution_count": 364,
   "metadata": {},
   "outputs": [
    {
     "data": {
      "text/html": [
       "<div>\n",
       "<style scoped>\n",
       "    .dataframe tbody tr th:only-of-type {\n",
       "        vertical-align: middle;\n",
       "    }\n",
       "\n",
       "    .dataframe tbody tr th {\n",
       "        vertical-align: top;\n",
       "    }\n",
       "\n",
       "    .dataframe thead tr th {\n",
       "        text-align: left;\n",
       "    }\n",
       "</style>\n",
       "<table border=\"1\" class=\"dataframe\">\n",
       "  <thead>\n",
       "    <tr>\n",
       "      <th></th>\n",
       "      <th colspan=\"6\" halign=\"left\">AGG</th>\n",
       "      <th colspan=\"6\" halign=\"left\">SPY</th>\n",
       "    </tr>\n",
       "    <tr>\n",
       "      <th></th>\n",
       "      <th>open</th>\n",
       "      <th>high</th>\n",
       "      <th>low</th>\n",
       "      <th>close</th>\n",
       "      <th>volume</th>\n",
       "      <th>daily_return</th>\n",
       "      <th>open</th>\n",
       "      <th>high</th>\n",
       "      <th>low</th>\n",
       "      <th>close</th>\n",
       "      <th>volume</th>\n",
       "      <th>daily_return</th>\n",
       "    </tr>\n",
       "  </thead>\n",
       "  <tbody>\n",
       "    <tr>\n",
       "      <th>2015-10-16 00:00:00-04:00</th>\n",
       "      <td>109.90</td>\n",
       "      <td>109.940</td>\n",
       "      <td>109.78</td>\n",
       "      <td>109.78</td>\n",
       "      <td>1497588.0</td>\n",
       "      <td>NaN</td>\n",
       "      <td>202.83</td>\n",
       "      <td>203.29</td>\n",
       "      <td>201.9200</td>\n",
       "      <td>203.14</td>\n",
       "      <td>79323870</td>\n",
       "      <td>NaN</td>\n",
       "    </tr>\n",
       "    <tr>\n",
       "      <th>2015-10-19 00:00:00-04:00</th>\n",
       "      <td>109.78</td>\n",
       "      <td>109.895</td>\n",
       "      <td>109.65</td>\n",
       "      <td>109.85</td>\n",
       "      <td>1289942.0</td>\n",
       "      <td>0.000638</td>\n",
       "      <td>202.50</td>\n",
       "      <td>203.37</td>\n",
       "      <td>202.1300</td>\n",
       "      <td>203.33</td>\n",
       "      <td>61255929</td>\n",
       "      <td>0.000935</td>\n",
       "    </tr>\n",
       "    <tr>\n",
       "      <th>2015-10-20 00:00:00-04:00</th>\n",
       "      <td>109.64</td>\n",
       "      <td>109.780</td>\n",
       "      <td>109.55</td>\n",
       "      <td>109.65</td>\n",
       "      <td>1672562.0</td>\n",
       "      <td>-0.001821</td>\n",
       "      <td>202.85</td>\n",
       "      <td>203.84</td>\n",
       "      <td>202.5471</td>\n",
       "      <td>203.07</td>\n",
       "      <td>60081395</td>\n",
       "      <td>-0.001279</td>\n",
       "    </tr>\n",
       "    <tr>\n",
       "      <th>2015-10-21 00:00:00-04:00</th>\n",
       "      <td>109.73</td>\n",
       "      <td>109.950</td>\n",
       "      <td>109.73</td>\n",
       "      <td>109.89</td>\n",
       "      <td>1119723.0</td>\n",
       "      <td>0.002189</td>\n",
       "      <td>203.61</td>\n",
       "      <td>203.79</td>\n",
       "      <td>201.6500</td>\n",
       "      <td>201.82</td>\n",
       "      <td>83704739</td>\n",
       "      <td>-0.006156</td>\n",
       "    </tr>\n",
       "    <tr>\n",
       "      <th>2015-10-22 00:00:00-04:00</th>\n",
       "      <td>109.90</td>\n",
       "      <td>110.050</td>\n",
       "      <td>109.83</td>\n",
       "      <td>109.94</td>\n",
       "      <td>1817244.0</td>\n",
       "      <td>0.000455</td>\n",
       "      <td>202.98</td>\n",
       "      <td>205.51</td>\n",
       "      <td>202.8100</td>\n",
       "      <td>205.22</td>\n",
       "      <td>121670959</td>\n",
       "      <td>0.016847</td>\n",
       "    </tr>\n",
       "  </tbody>\n",
       "</table>\n",
       "</div>"
      ],
      "text/plain": [
       "                              AGG                                      \\\n",
       "                             open     high     low   close     volume   \n",
       "2015-10-16 00:00:00-04:00  109.90  109.940  109.78  109.78  1497588.0   \n",
       "2015-10-19 00:00:00-04:00  109.78  109.895  109.65  109.85  1289942.0   \n",
       "2015-10-20 00:00:00-04:00  109.64  109.780  109.55  109.65  1672562.0   \n",
       "2015-10-21 00:00:00-04:00  109.73  109.950  109.73  109.89  1119723.0   \n",
       "2015-10-22 00:00:00-04:00  109.90  110.050  109.83  109.94  1817244.0   \n",
       "\n",
       "                                           SPY                            \\\n",
       "                          daily_return    open    high       low   close   \n",
       "2015-10-16 00:00:00-04:00          NaN  202.83  203.29  201.9200  203.14   \n",
       "2015-10-19 00:00:00-04:00     0.000638  202.50  203.37  202.1300  203.33   \n",
       "2015-10-20 00:00:00-04:00    -0.001821  202.85  203.84  202.5471  203.07   \n",
       "2015-10-21 00:00:00-04:00     0.002189  203.61  203.79  201.6500  201.82   \n",
       "2015-10-22 00:00:00-04:00     0.000455  202.98  205.51  202.8100  205.22   \n",
       "\n",
       "                                                   \n",
       "                              volume daily_return  \n",
       "2015-10-16 00:00:00-04:00   79323870          NaN  \n",
       "2015-10-19 00:00:00-04:00   61255929     0.000935  \n",
       "2015-10-20 00:00:00-04:00   60081395    -0.001279  \n",
       "2015-10-21 00:00:00-04:00   83704739    -0.006156  \n",
       "2015-10-22 00:00:00-04:00  121670959     0.016847  "
      ]
     },
     "execution_count": 364,
     "metadata": {},
     "output_type": "execute_result"
    }
   ],
   "source": [
    "# Print simulation input data\n",
    "MC_even_dist.portfolio_data.head()"
   ]
  },
  {
   "cell_type": "code",
   "execution_count": 365,
   "metadata": {},
   "outputs": [
    {
     "name": "stdout",
     "output_type": "stream",
     "text": [
      "Running Monte Carlo simulation number 0.\n",
      "Running Monte Carlo simulation number 10.\n",
      "Running Monte Carlo simulation number 20.\n",
      "Running Monte Carlo simulation number 30.\n",
      "Running Monte Carlo simulation number 40.\n",
      "Running Monte Carlo simulation number 50.\n",
      "Running Monte Carlo simulation number 60.\n",
      "Running Monte Carlo simulation number 70.\n",
      "Running Monte Carlo simulation number 80.\n",
      "Running Monte Carlo simulation number 90.\n"
     ]
    },
    {
     "data": {
      "text/html": [
       "<div>\n",
       "<style scoped>\n",
       "    .dataframe tbody tr th:only-of-type {\n",
       "        vertical-align: middle;\n",
       "    }\n",
       "\n",
       "    .dataframe tbody tr th {\n",
       "        vertical-align: top;\n",
       "    }\n",
       "\n",
       "    .dataframe thead th {\n",
       "        text-align: right;\n",
       "    }\n",
       "</style>\n",
       "<table border=\"1\" class=\"dataframe\">\n",
       "  <thead>\n",
       "    <tr style=\"text-align: right;\">\n",
       "      <th></th>\n",
       "      <th>0</th>\n",
       "      <th>1</th>\n",
       "      <th>2</th>\n",
       "      <th>3</th>\n",
       "      <th>4</th>\n",
       "      <th>5</th>\n",
       "      <th>6</th>\n",
       "      <th>7</th>\n",
       "      <th>8</th>\n",
       "      <th>9</th>\n",
       "      <th>...</th>\n",
       "      <th>90</th>\n",
       "      <th>91</th>\n",
       "      <th>92</th>\n",
       "      <th>93</th>\n",
       "      <th>94</th>\n",
       "      <th>95</th>\n",
       "      <th>96</th>\n",
       "      <th>97</th>\n",
       "      <th>98</th>\n",
       "      <th>99</th>\n",
       "    </tr>\n",
       "  </thead>\n",
       "  <tbody>\n",
       "    <tr>\n",
       "      <th>0</th>\n",
       "      <td>1.000000</td>\n",
       "      <td>1.000000</td>\n",
       "      <td>1.000000</td>\n",
       "      <td>1.000000</td>\n",
       "      <td>1.000000</td>\n",
       "      <td>1.000000</td>\n",
       "      <td>1.000000</td>\n",
       "      <td>1.000000</td>\n",
       "      <td>1.000000</td>\n",
       "      <td>1.000000</td>\n",
       "      <td>...</td>\n",
       "      <td>1.000000</td>\n",
       "      <td>1.000000</td>\n",
       "      <td>1.000000</td>\n",
       "      <td>1.000000</td>\n",
       "      <td>1.000000</td>\n",
       "      <td>1.000000</td>\n",
       "      <td>1.000000</td>\n",
       "      <td>1.000000</td>\n",
       "      <td>1.000000</td>\n",
       "      <td>1.000000</td>\n",
       "    </tr>\n",
       "    <tr>\n",
       "      <th>1</th>\n",
       "      <td>1.001882</td>\n",
       "      <td>0.999384</td>\n",
       "      <td>1.006374</td>\n",
       "      <td>1.007795</td>\n",
       "      <td>0.996824</td>\n",
       "      <td>0.999044</td>\n",
       "      <td>0.994646</td>\n",
       "      <td>1.003104</td>\n",
       "      <td>1.008373</td>\n",
       "      <td>1.007418</td>\n",
       "      <td>...</td>\n",
       "      <td>1.006479</td>\n",
       "      <td>1.004167</td>\n",
       "      <td>1.007812</td>\n",
       "      <td>0.989217</td>\n",
       "      <td>0.988778</td>\n",
       "      <td>1.003193</td>\n",
       "      <td>0.998000</td>\n",
       "      <td>0.985041</td>\n",
       "      <td>1.009497</td>\n",
       "      <td>0.987676</td>\n",
       "    </tr>\n",
       "    <tr>\n",
       "      <th>2</th>\n",
       "      <td>1.015406</td>\n",
       "      <td>0.994331</td>\n",
       "      <td>1.013854</td>\n",
       "      <td>1.019520</td>\n",
       "      <td>1.002602</td>\n",
       "      <td>1.001339</td>\n",
       "      <td>0.991369</td>\n",
       "      <td>1.003879</td>\n",
       "      <td>1.004767</td>\n",
       "      <td>1.012681</td>\n",
       "      <td>...</td>\n",
       "      <td>1.004161</td>\n",
       "      <td>1.006107</td>\n",
       "      <td>1.008105</td>\n",
       "      <td>0.994295</td>\n",
       "      <td>0.992406</td>\n",
       "      <td>1.003855</td>\n",
       "      <td>1.010238</td>\n",
       "      <td>0.986850</td>\n",
       "      <td>1.013521</td>\n",
       "      <td>0.985746</td>\n",
       "    </tr>\n",
       "    <tr>\n",
       "      <th>3</th>\n",
       "      <td>1.016704</td>\n",
       "      <td>1.003628</td>\n",
       "      <td>1.014697</td>\n",
       "      <td>1.009984</td>\n",
       "      <td>1.003280</td>\n",
       "      <td>0.999588</td>\n",
       "      <td>0.996160</td>\n",
       "      <td>0.994956</td>\n",
       "      <td>1.011844</td>\n",
       "      <td>0.999839</td>\n",
       "      <td>...</td>\n",
       "      <td>1.001814</td>\n",
       "      <td>1.006676</td>\n",
       "      <td>1.006620</td>\n",
       "      <td>0.988669</td>\n",
       "      <td>0.988006</td>\n",
       "      <td>0.995425</td>\n",
       "      <td>1.018064</td>\n",
       "      <td>0.988815</td>\n",
       "      <td>1.016948</td>\n",
       "      <td>0.989064</td>\n",
       "    </tr>\n",
       "    <tr>\n",
       "      <th>4</th>\n",
       "      <td>1.023838</td>\n",
       "      <td>0.996299</td>\n",
       "      <td>1.000936</td>\n",
       "      <td>0.999862</td>\n",
       "      <td>0.996975</td>\n",
       "      <td>1.006931</td>\n",
       "      <td>0.999223</td>\n",
       "      <td>0.981334</td>\n",
       "      <td>1.004177</td>\n",
       "      <td>0.987441</td>\n",
       "      <td>...</td>\n",
       "      <td>1.010764</td>\n",
       "      <td>0.995081</td>\n",
       "      <td>1.000869</td>\n",
       "      <td>0.987351</td>\n",
       "      <td>0.987627</td>\n",
       "      <td>1.002764</td>\n",
       "      <td>1.023705</td>\n",
       "      <td>0.976814</td>\n",
       "      <td>1.022460</td>\n",
       "      <td>0.991006</td>\n",
       "    </tr>\n",
       "    <tr>\n",
       "      <th>...</th>\n",
       "      <td>...</td>\n",
       "      <td>...</td>\n",
       "      <td>...</td>\n",
       "      <td>...</td>\n",
       "      <td>...</td>\n",
       "      <td>...</td>\n",
       "      <td>...</td>\n",
       "      <td>...</td>\n",
       "      <td>...</td>\n",
       "      <td>...</td>\n",
       "      <td>...</td>\n",
       "      <td>...</td>\n",
       "      <td>...</td>\n",
       "      <td>...</td>\n",
       "      <td>...</td>\n",
       "      <td>...</td>\n",
       "      <td>...</td>\n",
       "      <td>...</td>\n",
       "      <td>...</td>\n",
       "      <td>...</td>\n",
       "      <td>...</td>\n",
       "    </tr>\n",
       "    <tr>\n",
       "      <th>248</th>\n",
       "      <td>1.085206</td>\n",
       "      <td>1.006569</td>\n",
       "      <td>0.968210</td>\n",
       "      <td>0.906104</td>\n",
       "      <td>0.981110</td>\n",
       "      <td>0.967068</td>\n",
       "      <td>0.902948</td>\n",
       "      <td>1.097733</td>\n",
       "      <td>1.146104</td>\n",
       "      <td>0.972557</td>\n",
       "      <td>...</td>\n",
       "      <td>1.017780</td>\n",
       "      <td>1.137597</td>\n",
       "      <td>0.955208</td>\n",
       "      <td>1.052500</td>\n",
       "      <td>1.021660</td>\n",
       "      <td>1.224898</td>\n",
       "      <td>0.902202</td>\n",
       "      <td>1.364226</td>\n",
       "      <td>0.992569</td>\n",
       "      <td>1.022754</td>\n",
       "    </tr>\n",
       "    <tr>\n",
       "      <th>249</th>\n",
       "      <td>1.094016</td>\n",
       "      <td>1.004506</td>\n",
       "      <td>0.970414</td>\n",
       "      <td>0.912093</td>\n",
       "      <td>0.977675</td>\n",
       "      <td>0.976858</td>\n",
       "      <td>0.900695</td>\n",
       "      <td>1.085681</td>\n",
       "      <td>1.146059</td>\n",
       "      <td>0.965170</td>\n",
       "      <td>...</td>\n",
       "      <td>1.015968</td>\n",
       "      <td>1.130883</td>\n",
       "      <td>0.957545</td>\n",
       "      <td>1.059868</td>\n",
       "      <td>1.024820</td>\n",
       "      <td>1.218929</td>\n",
       "      <td>0.896586</td>\n",
       "      <td>1.355110</td>\n",
       "      <td>1.000217</td>\n",
       "      <td>1.023943</td>\n",
       "    </tr>\n",
       "    <tr>\n",
       "      <th>250</th>\n",
       "      <td>1.081659</td>\n",
       "      <td>1.010118</td>\n",
       "      <td>0.971535</td>\n",
       "      <td>0.913697</td>\n",
       "      <td>0.985255</td>\n",
       "      <td>0.979656</td>\n",
       "      <td>0.902172</td>\n",
       "      <td>1.074979</td>\n",
       "      <td>1.163867</td>\n",
       "      <td>0.948347</td>\n",
       "      <td>...</td>\n",
       "      <td>1.035606</td>\n",
       "      <td>1.129327</td>\n",
       "      <td>0.963362</td>\n",
       "      <td>1.055848</td>\n",
       "      <td>1.022345</td>\n",
       "      <td>1.211004</td>\n",
       "      <td>0.903178</td>\n",
       "      <td>1.348849</td>\n",
       "      <td>1.001969</td>\n",
       "      <td>1.031780</td>\n",
       "    </tr>\n",
       "    <tr>\n",
       "      <th>251</th>\n",
       "      <td>1.086906</td>\n",
       "      <td>1.020990</td>\n",
       "      <td>0.973501</td>\n",
       "      <td>0.910701</td>\n",
       "      <td>0.990048</td>\n",
       "      <td>0.970196</td>\n",
       "      <td>0.901343</td>\n",
       "      <td>1.075191</td>\n",
       "      <td>1.157902</td>\n",
       "      <td>0.947438</td>\n",
       "      <td>...</td>\n",
       "      <td>1.038770</td>\n",
       "      <td>1.138133</td>\n",
       "      <td>0.947092</td>\n",
       "      <td>1.053759</td>\n",
       "      <td>1.015005</td>\n",
       "      <td>1.214652</td>\n",
       "      <td>0.895472</td>\n",
       "      <td>1.325566</td>\n",
       "      <td>1.006554</td>\n",
       "      <td>1.030108</td>\n",
       "    </tr>\n",
       "    <tr>\n",
       "      <th>252</th>\n",
       "      <td>1.084897</td>\n",
       "      <td>1.027147</td>\n",
       "      <td>0.969747</td>\n",
       "      <td>0.914710</td>\n",
       "      <td>0.996025</td>\n",
       "      <td>0.974092</td>\n",
       "      <td>0.898754</td>\n",
       "      <td>1.081233</td>\n",
       "      <td>1.167473</td>\n",
       "      <td>0.941891</td>\n",
       "      <td>...</td>\n",
       "      <td>1.043151</td>\n",
       "      <td>1.144898</td>\n",
       "      <td>0.948395</td>\n",
       "      <td>1.053799</td>\n",
       "      <td>1.015314</td>\n",
       "      <td>1.215554</td>\n",
       "      <td>0.898096</td>\n",
       "      <td>1.336699</td>\n",
       "      <td>1.003066</td>\n",
       "      <td>1.035393</td>\n",
       "    </tr>\n",
       "  </tbody>\n",
       "</table>\n",
       "<p>253 rows × 100 columns</p>\n",
       "</div>"
      ],
      "text/plain": [
       "           0         1         2         3         4         5         6   \\\n",
       "0    1.000000  1.000000  1.000000  1.000000  1.000000  1.000000  1.000000   \n",
       "1    1.001882  0.999384  1.006374  1.007795  0.996824  0.999044  0.994646   \n",
       "2    1.015406  0.994331  1.013854  1.019520  1.002602  1.001339  0.991369   \n",
       "3    1.016704  1.003628  1.014697  1.009984  1.003280  0.999588  0.996160   \n",
       "4    1.023838  0.996299  1.000936  0.999862  0.996975  1.006931  0.999223   \n",
       "..        ...       ...       ...       ...       ...       ...       ...   \n",
       "248  1.085206  1.006569  0.968210  0.906104  0.981110  0.967068  0.902948   \n",
       "249  1.094016  1.004506  0.970414  0.912093  0.977675  0.976858  0.900695   \n",
       "250  1.081659  1.010118  0.971535  0.913697  0.985255  0.979656  0.902172   \n",
       "251  1.086906  1.020990  0.973501  0.910701  0.990048  0.970196  0.901343   \n",
       "252  1.084897  1.027147  0.969747  0.914710  0.996025  0.974092  0.898754   \n",
       "\n",
       "           7         8         9   ...        90        91        92  \\\n",
       "0    1.000000  1.000000  1.000000  ...  1.000000  1.000000  1.000000   \n",
       "1    1.003104  1.008373  1.007418  ...  1.006479  1.004167  1.007812   \n",
       "2    1.003879  1.004767  1.012681  ...  1.004161  1.006107  1.008105   \n",
       "3    0.994956  1.011844  0.999839  ...  1.001814  1.006676  1.006620   \n",
       "4    0.981334  1.004177  0.987441  ...  1.010764  0.995081  1.000869   \n",
       "..        ...       ...       ...  ...       ...       ...       ...   \n",
       "248  1.097733  1.146104  0.972557  ...  1.017780  1.137597  0.955208   \n",
       "249  1.085681  1.146059  0.965170  ...  1.015968  1.130883  0.957545   \n",
       "250  1.074979  1.163867  0.948347  ...  1.035606  1.129327  0.963362   \n",
       "251  1.075191  1.157902  0.947438  ...  1.038770  1.138133  0.947092   \n",
       "252  1.081233  1.167473  0.941891  ...  1.043151  1.144898  0.948395   \n",
       "\n",
       "           93        94        95        96        97        98        99  \n",
       "0    1.000000  1.000000  1.000000  1.000000  1.000000  1.000000  1.000000  \n",
       "1    0.989217  0.988778  1.003193  0.998000  0.985041  1.009497  0.987676  \n",
       "2    0.994295  0.992406  1.003855  1.010238  0.986850  1.013521  0.985746  \n",
       "3    0.988669  0.988006  0.995425  1.018064  0.988815  1.016948  0.989064  \n",
       "4    0.987351  0.987627  1.002764  1.023705  0.976814  1.022460  0.991006  \n",
       "..        ...       ...       ...       ...       ...       ...       ...  \n",
       "248  1.052500  1.021660  1.224898  0.902202  1.364226  0.992569  1.022754  \n",
       "249  1.059868  1.024820  1.218929  0.896586  1.355110  1.000217  1.023943  \n",
       "250  1.055848  1.022345  1.211004  0.903178  1.348849  1.001969  1.031780  \n",
       "251  1.053759  1.015005  1.214652  0.895472  1.325566  1.006554  1.030108  \n",
       "252  1.053799  1.015314  1.215554  0.898096  1.336699  1.003066  1.035393  \n",
       "\n",
       "[253 rows x 100 columns]"
      ]
     },
     "execution_count": 365,
     "metadata": {},
     "output_type": "execute_result"
    }
   ],
   "source": [
    "# Running a Monte Carlo simulation to forecast 10 years cumulative returns\n",
    "MC_even_dist.calc_cumulative_return()"
   ]
  },
  {
   "cell_type": "code",
   "execution_count": 366,
   "metadata": {},
   "outputs": [
    {
     "data": {
      "image/png": "[encoded data removed]",
      "text/plain": [
       "<Figure size 432x288 with 1 Axes>"
      ]
     },
     "metadata": {
      "needs_background": "light"
     },
     "output_type": "display_data"
    }
   ],
   "source": [
    "# Plot simulation outcomes\n",
    "line_plot = MC_even_dist.plot_simulation()"
   ]
  },
  {
   "cell_type": "code",
   "execution_count": 367,
   "metadata": {},
   "outputs": [
    {
     "data": {
      "image/png": "[encoded data removed]",
      "text/plain": [
       "<Figure size 432x288 with 1 Axes>"
      ]
     },
     "metadata": {
      "needs_background": "light"
     },
     "output_type": "display_data"
    }
   ],
   "source": [
    "# Plot probability distribution and confidence intervals\n",
    "dist_plot = MC_even_dist.plot_distribution()"
   ]
  },
  {
   "cell_type": "code",
   "execution_count": 368,
   "metadata": {},
   "outputs": [
    {
     "name": "stdout",
     "output_type": "stream",
     "text": [
      "count           100.000000\n",
      "mean              1.080158\n",
      "std               0.131146\n",
      "min               0.823002\n",
      "25%               0.989959\n",
      "50%               1.071214\n",
      "75%               1.159150\n",
      "max               1.545846\n",
      "95% CI Lower      0.871853\n",
      "95% CI Upper      1.398110\n",
      "Name: 252, dtype: float64\n"
     ]
    }
   ],
   "source": [
    "# Fetch summary statistics from the Monte Carlo simulation results\n",
    "even_tbl = MC_even_dist.summarize_cumulative_return()\n",
    "\n",
    "# Print summary statistics\n",
    "print(even_tbl)"
   ]
  },
  {
   "cell_type": "code",
   "execution_count": 369,
   "metadata": {},
   "outputs": [
    {
     "name": "stdout",
     "output_type": "stream",
     "text": [
      "There is a 95% chance that an initial investment of $30000.0 in the portfolio over the next 10 years will end within in the range of $52311.16 and $83886.61\n"
     ]
    }
   ],
   "source": [
    "# Set initial investment\n",
    "# Use the lower and upper `95%` confidence intervals to calculate the range of the possible outcomes of our $60,000\n",
    "ci_lower_ten = round(even_tbl[8]*60000,2)\n",
    "ci_upper_ten = round(even_tbl[9]*60000,2)\n",
    "\n",
    "\n",
    "# Print results\n",
    "print(f\"There is a 95% chance that an initial investment of ${initial_investment} in the portfolio\"\n",
    "      f\" over the next 10 years will end within in the range of\"\n",
    "      f\" ${ci_lower_ten} and ${ci_upper_ten}\")"
   ]
  }
 ],
 "metadata": {
  "kernelspec": {
   "display_name": "Python 3",
   "language": "python",
   "name": "python3"
  },
  "language_info": {
   "codemirror_mode": {
    "name": "ipython",
    "version": 3
   },
   "file_extension": ".py",
   "mimetype": "text/x-python",
   "name": "python",
   "nbconvert_exporter": "python",
   "pygments_lexer": "ipython3",
   "version": "3.7.7"
  }
 },
 "nbformat": 4,
 "nbformat_minor": 4
}
